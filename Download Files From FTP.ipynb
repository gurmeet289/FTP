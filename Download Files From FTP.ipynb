{
 "cells": [
  {
   "cell_type": "code",
   "execution_count": null,
   "metadata": {},
   "outputs": [],
   "source": [
    "from ftplib import FTP\n",
    "from datetime import datetime\n",
    "\n",
    "Host_name = \"Give your hostname\"\n",
    "User_name = \"Give your username\"\n",
    "Password = \"Give your password\"\n",
    "Local_Directory = \"Give your local directory path\"\n",
    "Source_Directory = \"GIve your FTP server path from where you want to download the files\"\n",
    "\n",
    "start = datetime.now()\n",
    "ftp = FTP(Host_name)\n",
    "ftp.login(User_name,Password)\n",
    "\n",
    "# Get All Files\n",
    "ftp.cwd(Source_Directory);\n",
    "files = ftp.nlst(Source_Directory)\n",
    "print(files)\n",
    "\n",
    "# Print out the files\n",
    "for file in files[2:]:\n",
    "    print(\"Downloading...\" + file)\n",
    "    ftp.retrbinary(\"RETR \" + file ,open(Local_Directory+file, 'wb').write)\n",
    "\n",
    "ftp.close()"
   ]
  }
 ],
 "metadata": {
  "kernelspec": {
   "display_name": "Python 3",
   "language": "python",
   "name": "python3"
  },
  "language_info": {
   "codemirror_mode": {
    "name": "ipython",
    "version": 3
   },
   "file_extension": ".py",
   "mimetype": "text/x-python",
   "name": "python",
   "nbconvert_exporter": "python",
   "pygments_lexer": "ipython3",
   "version": "3.7.4"
  }
 },
 "nbformat": 4,
 "nbformat_minor": 2
}
